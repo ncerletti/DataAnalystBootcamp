{
 "cells": [
  {
   "cell_type": "code",
   "execution_count": 1,
   "id": "b174ea9a-fdb2-4a1a-884e-af4cf330ab9c",
   "metadata": {},
   "outputs": [],
   "source": [
    "import os"
   ]
  },
  {
   "cell_type": "code",
   "execution_count": 65,
   "id": "88d9fba0-909a-4fd0-a20e-3da32ec6f9c6",
   "metadata": {},
   "outputs": [
    {
     "name": "stdout",
     "output_type": "stream",
     "text": [
      "['Captura de pantalla 2023-12-09 004222.png', 'Captura de pantalla 2023-12-09 004253.png', 'ejercicio preguntas.docx', 'logo de acero.pdf', 'preguntas dia 5.docx', 'tarjetas catan.jpg']\n",
      "['Captura de pantalla 2023-12-09 004222.png', 'Captura de pantalla 2023-12-09 004253.png', 'tarjetas catan.jpg']\n"
     ]
    },
    {
     "ename": "FileNotFoundError",
     "evalue": "[WinError 2] El sistema no puede encontrar el archivo especificado: 'C:/Users/Herenya/Desktop/Python_Test/Captura de pantalla 2023-12-09 004222.png' -> 'C:/Users/Herenya/Desktop/Python_Test/Images/Captura de pantalla 2023-12-09 004222.png'",
     "output_type": "error",
     "traceback": [
      "\u001b[1;31m---------------------------------------------------------------------------\u001b[0m",
      "\u001b[1;31mFileNotFoundError\u001b[0m                         Traceback (most recent call last)",
      "Cell \u001b[1;32mIn[65], line 24\u001b[0m\n\u001b[0;32m     22\u001b[0m \u001b[38;5;28;01mif\u001b[39;00m fileExtension \u001b[38;5;241m==\u001b[39m \u001b[38;5;124m'\u001b[39m\u001b[38;5;124m.png\u001b[39m\u001b[38;5;124m'\u001b[39m \u001b[38;5;129;01mor\u001b[39;00m fileExtension \u001b[38;5;241m==\u001b[39m \u001b[38;5;124m'\u001b[39m\u001b[38;5;124m.jpg\u001b[39m\u001b[38;5;124m'\u001b[39m:\n\u001b[0;32m     23\u001b[0m     file_new \u001b[38;5;241m=\u001b[39m (img_folder \u001b[38;5;241m+\u001b[39m file)\n\u001b[1;32m---> 24\u001b[0m     os\u001b[38;5;241m.\u001b[39mrename(file_or, file_new)\n\u001b[0;32m     25\u001b[0m \u001b[38;5;28;01melif\u001b[39;00m fileExtension \u001b[38;5;241m==\u001b[39m \u001b[38;5;124m'\u001b[39m\u001b[38;5;124m.docx\u001b[39m\u001b[38;5;124m'\u001b[39m:\n\u001b[0;32m     26\u001b[0m     file_new \u001b[38;5;241m=\u001b[39m (word_folder \u001b[38;5;241m+\u001b[39m file)\n",
      "\u001b[1;31mFileNotFoundError\u001b[0m: [WinError 2] El sistema no puede encontrar el archivo especificado: 'C:/Users/Herenya/Desktop/Python_Test/Captura de pantalla 2023-12-09 004222.png' -> 'C:/Users/Herenya/Desktop/Python_Test/Images/Captura de pantalla 2023-12-09 004222.png'"
     ]
    }
   ],
   "source": [
    "import os\n",
    "import shutil\n",
    "\n",
    "path = \"C:/Users/Herenya/Desktop/Python_Test/\"\n",
    "\n",
    "#for file in dirs:\n",
    "#    print(file)\n",
    "    \n",
    "#os.mkdir('C:/Users/Herenya/Desktop/Python_Test/Images/')\n",
    "#os.mkdir('C:/Users/Herenya/Desktop/Python_Test/WordDocs/')\n",
    "#os.mkdir('C:/Users/Herenya/Desktop/Python_Test/PDF/')\n",
    "\n",
    "img_folder = 'C:/Users/Herenya/Desktop/Python_Test/Images/'\n",
    "word_folder = 'C:/Users/Herenya/Desktop/Python_Test/WordDocs/'\n",
    "pdf_folder = 'C:/Users/Herenya/Desktop/Python_Test/PDF/'\n",
    "\n",
    "for root, dirs, files in os.walk(path):\n",
    "    print(files)\n",
    "    for file in files:\n",
    "        fileName, fileExtension = os.path.splitext(file)\n",
    "        file_or = (path + file)\n",
    "        if fileExtension == '.png' or fileExtension == '.jpg':\n",
    "            file_new = (img_folder + file)\n",
    "            os.rename(file_or, file_new)\n",
    "        elif fileExtension == '.docx':\n",
    "            file_new = (word_folder + file)\n",
    "            os.rename(file_or, file_new)\n",
    "        elif fileExtension == '.pdf':\n",
    "            file_new = (pdf_folder + file)\n",
    "            os.rename(file_or, file_new)\n",
    "    #break\n",
    "        "
   ]
  },
  {
   "cell_type": "code",
   "execution_count": 62,
   "id": "76e53a7e-f166-4d0e-8844-27729f3ee81b",
   "metadata": {},
   "outputs": [
    {
     "data": {
      "text/plain": [
       "['Images', 'PDF', 'WordDocs']"
      ]
     },
     "execution_count": 62,
     "metadata": {},
     "output_type": "execute_result"
    }
   ],
   "source": [
    "import os\n",
    "import shutil\n",
    "\n",
    "path = \"C:/Users/Herenya/Desktop/Python_Test/\"\n",
    "\n",
    "os.listdir(path)\n"
   ]
  },
  {
   "cell_type": "code",
   "execution_count": null,
   "id": "2c3b9c61-1e34-4d59-afaf-6baf672d25eb",
   "metadata": {},
   "outputs": [],
   "source": []
  },
  {
   "cell_type": "code",
   "execution_count": null,
   "id": "59d83d5f-64f3-40b3-acd7-9106ba5793ab",
   "metadata": {},
   "outputs": [],
   "source": []
  },
  {
   "cell_type": "code",
   "execution_count": null,
   "id": "90975a85-45d0-40d8-8fc3-b989e5f3718a",
   "metadata": {},
   "outputs": [],
   "source": []
  },
  {
   "cell_type": "code",
   "execution_count": null,
   "id": "c0400905-6c05-4380-a387-99aec6baf5bc",
   "metadata": {},
   "outputs": [],
   "source": []
  },
  {
   "cell_type": "code",
   "execution_count": null,
   "id": "7a54119f-4d24-4e0e-99e3-5f9728e8b3e3",
   "metadata": {},
   "outputs": [],
   "source": [
    "if fileExtension == '.png' or fileExtension == '.jpg':\n",
    "        os.rename(file, img_folder)\n",
    "    elif filExtension == '.docx':\n",
    "        os.rename(file, word_folder)\n",
    "    else:\n",
    "        os.rename(file, pdf_folder)"
   ]
  },
  {
   "cell_type": "markdown",
   "id": "c7bcd404-5779-4096-bfd1-ad4af0be3d66",
   "metadata": {},
   "source": [
    "import os\n",
    "import shutil\n",
    "\n",
    "path = \"C:/Users/Herenya/Desktop/Python_Test/\"\n",
    "\n",
    "for root, dirs, files in os.walk(path):\n",
    "    for file in files:\n",
    "        print(file)"
   ]
  },
  {
   "cell_type": "code",
   "execution_count": null,
   "id": "53700951-ab5e-4d6b-9f6f-0dca6e49c1d5",
   "metadata": {},
   "outputs": [],
   "source": [
    " for file in files:\n",
    "        fileName, fileExtension = os.path.splitext(file)\n",
    "        file_or = (path + file)\n",
    "        if fileExtension == '.png' or fileExtension == '.jpg':\n",
    "            file_new = (img_folder + file)\n",
    "            os.rename(file_or, file_new)\n",
    "        elif fileExtension == '.docx':\n",
    "            file_new = (word_folder + file)\n",
    "            os.rename(file_or, file_new)\n",
    "        else:\n",
    "            file_new = (pdf_folder + file)\n",
    "            os.rename(file_or, file_new)\n",
    "    break\n",
    "        \n"
   ]
  }
 ],
 "metadata": {
  "kernelspec": {
   "display_name": "Python 3 (ipykernel)",
   "language": "python",
   "name": "python3"
  },
  "language_info": {
   "codemirror_mode": {
    "name": "ipython",
    "version": 3
   },
   "file_extension": ".py",
   "mimetype": "text/x-python",
   "name": "python",
   "nbconvert_exporter": "python",
   "pygments_lexer": "ipython3",
   "version": "3.11.7"
  }
 },
 "nbformat": 4,
 "nbformat_minor": 5
}
