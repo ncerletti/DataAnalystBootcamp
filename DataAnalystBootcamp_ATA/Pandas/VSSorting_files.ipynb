{
 "cells": [
  {
   "cell_type": "code",
   "execution_count": 1,
   "id": "6f57d4db-4ead-4a4f-a2de-6b6a247d34f1",
   "metadata": {},
   "outputs": [
    {
     "name": "stdout",
     "output_type": "stream",
     "text": [
      "['Images', 'PDF', 'WordDocs']\n"
     ]
    }
   ],
   "source": [
    "import os\n",
    "import shutil\n",
    "\n",
    "path = \"C:/Users/Herenya/Desktop/Python_Test/\"\n",
    "file_name = os.listdir(path)\n",
    "print(file_name)"
   ]
  },
  {
   "cell_type": "code",
   "execution_count": null,
   "id": "ec29d734-7324-46cf-aad1-5644b31d8288",
   "metadata": {},
   "outputs": [],
   "source": [
    "#os.mkdir('C:/Users/Herenya/Desktop/Python_Test/Images/')\n",
    "#os.mkdir('C:/Users/Herenya/Desktop/Python_Test/WordDocs/')\n",
    "#os.mkdir('C:/Users/Herenya/Desktop/Python_Test/PDF/')\n",
    "\n",
    "img_folder = 'C:/Users/Herenya/Desktop/Python_Test/Images/'\n",
    "word_folder = 'C:/Users/Herenya/Desktop/Python_Test/WordDocs/'\n",
    "pdf_folder = 'C:/Users/Herenya/Desktop/Python_Test/PDF/'\n",
    "\n",
    "for root, dirs, files in os.walk(path):\n",
    "    print(files)\n",
    "    for file in files:\n",
    "        fileName, fileExtension = os.path.splitext(file)\n",
    "        file_or = (path + file)\n",
    "        if fileExtension == '.png' or fileExtension == '.jpg':\n",
    "            file_new = (img_folder + file)\n",
    "            os.rename(file_or, file_new)\n",
    "        elif fileExtension == '.docx':\n",
    "            file_new = (word_folder + file)\n",
    "            os.rename(file_or, file_new)\n",
    "        elif fileExtension == '.pdf':\n",
    "            file_new = (pdf_folder + file)\n",
    "            os.rename(file_or, file_new)\n",
    "    #break\n",
    "        "
   ]
  },
  {
   "cell_type": "code",
   "execution_count": null,
   "id": "78ee4c95-70f3-4627-a52f-70f514c3acc3",
   "metadata": {},
   "outputs": [],
   "source": []
  }
 ],
 "metadata": {
  "kernelspec": {
   "display_name": "Python 3 (ipykernel)",
   "language": "python",
   "name": "python3"
  },
  "language_info": {
   "codemirror_mode": {
    "name": "ipython",
    "version": 3
   },
   "file_extension": ".py",
   "mimetype": "text/x-python",
   "name": "python",
   "nbconvert_exporter": "python",
   "pygments_lexer": "ipython3",
   "version": "3.11.7"
  }
 },
 "nbformat": 4,
 "nbformat_minor": 5
}
