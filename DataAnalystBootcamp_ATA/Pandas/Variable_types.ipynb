{
 "cells": [
  {
   "cell_type": "code",
   "execution_count": 1,
   "id": "ce8c8705-c689-4a68-ad84-5db25ba978cb",
   "metadata": {},
   "outputs": [
    {
     "data": {
      "text/plain": [
       "float"
      ]
     },
     "execution_count": 1,
     "metadata": {},
     "output_type": "execute_result"
    }
   ],
   "source": [
    "type(12.3)\n"
   ]
  },
  {
   "cell_type": "code",
   "execution_count": 5,
   "id": "b3f6bbbf-12ed-48c8-aec0-2dce8a809b6a",
   "metadata": {},
   "outputs": [
    {
     "data": {
      "text/plain": [
       "complex"
      ]
     },
     "execution_count": 5,
     "metadata": {},
     "output_type": "execute_result"
    }
   ],
   "source": [
    "type(12+3j)\n"
   ]
  },
  {
   "cell_type": "code",
   "execution_count": 8,
   "id": "56506842-11b7-41b7-a45c-ecb1704f6d1f",
   "metadata": {},
   "outputs": [
    {
     "name": "stdout",
     "output_type": "stream",
     "text": [
      "(23+3j)\n"
     ]
    }
   ],
   "source": [
    "X= 23+3J\n",
    "print(X)\n",
    "\n"
   ]
  },
  {
   "cell_type": "code",
   "execution_count": 16,
   "id": "11bfc361-8213-4b73-9f1d-83ec696310b4",
   "metadata": {},
   "outputs": [
    {
     "name": "stdout",
     "output_type": "stream",
     "text": [
      "Hello World Hello World\n"
     ]
    }
   ],
   "source": [
    "a='Hello World'\n",
    "print(a+' '+a)"
   ]
  },
  {
   "cell_type": "code",
   "execution_count": null,
   "id": "be8d2cae-5de9-47e3-8c38-d83cccbec794",
   "metadata": {},
   "outputs": [],
   "source": [
    "# (tuple) [list] {set}"
   ]
  },
  {
   "cell_type": "code",
   "execution_count": 22,
   "id": "c6e6c93c-c93c-4851-bf6a-771511cfc0e0",
   "metadata": {},
   "outputs": [
    {
     "name": "stdout",
     "output_type": "stream",
     "text": [
      "['Chocolate', 'Vanilla', 'Raspberry']\n",
      "['Chocolate', 'Vanilla', 'Raspberry', 'Caramel']\n",
      "['Chocolate', 'Vanilla', 'Raspberry', 'White Chocolate']\n"
     ]
    }
   ],
   "source": [
    "#Lists\n",
    "ice_cream = ['Chocolate', 'Vanilla', 'Raspberry']\n",
    "print(ice_cream)\n",
    "ice_cream.append('Caramel')\n",
    "print(ice_cream)\n",
    "ice_cream[3] = 'White Chocolate'\n",
    "print(ice_cream)"
   ]
  },
  {
   "cell_type": "code",
   "execution_count": 24,
   "id": "3697ae17-5e76-4d76-b1d7-6a33d43c232f",
   "metadata": {},
   "outputs": [
    {
     "name": "stdout",
     "output_type": "stream",
     "text": [
      "['Chocolate', 3, [4, 5], ['Caramel', 'Raspberry'], True]\n",
      "5 Caramel\n",
      "5 Oreo\n"
     ]
    }
   ],
   "source": [
    "mix = ['Chocolate', 3, [4,5], ['Caramel', 'Raspberry'], True]\n",
    "print(mix)\n",
    "print(mix[2][1],mix[3][0])\n",
    "mix = ['Chocolate', 3, [4,5], ['Caramel', 'Raspberry', ['Vanilla', 'Oreo']], True]\n",
    "print(mix[2][1],mix[3][2][1])"
   ]
  },
  {
   "cell_type": "code",
   "execution_count": 28,
   "id": "3486102b-b04f-46a3-9a46-6efbc6a6e7b2",
   "metadata": {},
   "outputs": [
    {
     "name": "stdout",
     "output_type": "stream",
     "text": [
      "('Vanilla', 'Chocolate', 'Oreo', 'Caramel', 'Raspberry')\n"
     ]
    },
    {
     "data": {
      "text/plain": [
       "tuple"
      ]
     },
     "execution_count": 28,
     "metadata": {},
     "output_type": "execute_result"
    }
   ],
   "source": [
    "#Tuple: no cambia () vs [] (listas)\n",
    "\n",
    "icecream = ('Vanilla', 'Chocolate', 'Oreo', 'Caramel', 'Raspberry')\n",
    "print(icecream)\n",
    "type(icecream)"
   ]
  },
  {
   "cell_type": "code",
   "execution_count": 36,
   "id": "2417f9d1-8e9b-4d23-9a71-0059541d9a41",
   "metadata": {},
   "outputs": [
    {
     "name": "stdout",
     "output_type": "stream",
     "text": [
      "{1, 2, 3}\n",
      "{1, 2, 3, 4, 5, 6, 7}\n",
      "[1, 2, 3, 4, 5, 4, 3, 2, 2, 2, 1, 4, 3, 4, 7, 6, 4, 4]\n",
      "{1, 2, 3, 4, 5, 6, 7}\n"
     ]
    }
   ],
   "source": [
    "#Sets : no están ordenados, no se puede indexar (buscar x posición), todos sus elementos son únicos - no hay duplicados\n",
    "\n",
    "daily_pints = {1,2,3}\n",
    "\n",
    "print(daily_pints)\n",
    "\n",
    "daily_pints_log = {1,2,3,4,5,4,3,2,2,2,1,4,3,4,7,6,4,4}\n",
    "\n",
    "print(daily_pints_log)\n",
    "\n",
    "#Turning list into a set\n",
    "\n",
    "dpl = [1,2,3,4,5,4,3,2,2,2,1,4,3,4,7,6,4,4]\n",
    "print(dpl)\n",
    "dpl = set(dpl)\n",
    "print(dpl)"
   ]
  },
  {
   "cell_type": "code",
   "execution_count": 41,
   "id": "c39a16de-9bc6-4178-b76a-ea43235fd351",
   "metadata": {},
   "outputs": [
    {
     "name": "stdout",
     "output_type": "stream",
     "text": [
      "{0, 1, 2, 3, 4, 5, 6, 7, 8, 9, 32}\n",
      "{1, 2, 3, 4, 5}\n",
      "{6, 7}\n",
      "{32, 0, 8, 9}\n",
      "{32, 0, 6, 8, 9, 7}\n",
      "{32, 0, 6, 7, 8, 9}\n"
     ]
    }
   ],
   "source": [
    "dpl = {1,2,3,4,5,4,3,2,2,2,1,4,3,4,7,6,4,4}\n",
    "wife_dpl = {3,5,5,32,8,9,4,2,2,1,0}\n",
    "\n",
    "#Combinar todos los valores únicos de ambos sets y mostrarlos todos: |\n",
    "print(dpl | wife_dpl)\n",
    "\n",
    "#Juntar los 2 sets y mostrar solo los valores que coincidan (only shows matches) &\n",
    "print(dpl & wife_dpl)\n",
    "\n",
    "#Shows only what DOESN'T match con - OJO importa el orden de restar (no muestra cualquier elemento q no tenga match, solo los del primer set que no tienen match en el segundo)\n",
    "print(dpl - wife_dpl)\n",
    "print(wife_dpl - dpl)\n",
    "\n",
    "#Shows no matches from BOTH sets\n",
    "\n",
    "print(dpl ^ wife_dpl)\n",
    "print(wife_dpl ^ dpl)\n"
   ]
  },
  {
   "cell_type": "code",
   "execution_count": 25,
   "id": "f962e72d-f0bf-4bab-9418-426a9c4c7388",
   "metadata": {},
   "outputs": [
    {
     "name": "stdout",
     "output_type": "stream",
     "text": [
      "{'Name': 'Nat', 'Weekly Intake': 2, 'Fave Flavours': ['Chocolate', 'Raspberry', 'Kinder Bueno']}\n",
      "dict_values(['Nat', 2, ['Chocolate', 'Raspberry', 'Kinder Bueno']])\n",
      "dict_keys(['Name', 'Weekly Intake', 'Fave Flavours'])\n",
      "dict_items([('Name', 'Nat'), ('Weekly Intake', 2), ('Fave Flavours', ['Chocolate', 'Raspberry', 'Kinder Bueno'])])\n",
      "Nat\n",
      "Nati\n",
      "{'Name': 'Nati', 'Weekly Intake': 2, 'Fave Flavours': ['Chocolate', 'Raspberry', 'Kinder Bueno'], 'No_Gos': ['Mint', 'Cheese']}\n",
      "{'Name': 'Nat', 'Weekly Intake': 5, 'Fave Flavours': ['Chocolate', 'Raspberry', 'Kinder Bueno'], 'No_Gos': ['Mint', 'Cheese']}\n",
      "{'Name': 'Nat', 'Weekly Intake': 5, 'Fave Flavours': ['Chocolate', 'Raspberry', 'Kinder Bueno']}\n"
     ]
    }
   ],
   "source": [
    "ice_cream = {'Name':'Nat', 'Weekly Intake':2, 'Fave Flavours':['Chocolate', 'Raspberry', 'Kinder Bueno']}\n",
    "print(ice_cream)\n",
    "\n",
    "print(ice_cream.values())\n",
    "\n",
    "print(ice_cream.keys())\n",
    "\n",
    "print(ice_cream.items())\n",
    "\n",
    "print(ice_cream['Name'])\n",
    "\n",
    "ice_cream['Name'] = 'Nati'\n",
    "\n",
    "print(ice_cream['Name'])\n",
    "\n",
    "ice_cream.update({'No_Gos':['Mint', 'Cheese']})\n",
    "\n",
    "print(ice_cream)\n",
    "\n",
    "ice_cream.update({'Name': 'Nat', 'Weekly Intake':5})\n",
    "\n",
    "print(ice_cream)\n",
    "\n",
    "del ice_cream['No_Gos']\n",
    "\n",
    "print(ice_cream)"
   ]
  },
  {
   "cell_type": "code",
   "execution_count": null,
   "id": "67ac5829-543c-4f61-935e-07785202ed32",
   "metadata": {},
   "outputs": [],
   "source": []
  }
 ],
 "metadata": {
  "kernelspec": {
   "display_name": "Python 3 (ipykernel)",
   "language": "python",
   "name": "python3"
  },
  "language_info": {
   "codemirror_mode": {
    "name": "ipython",
    "version": 3
   },
   "file_extension": ".py",
   "mimetype": "text/x-python",
   "name": "python",
   "nbconvert_exporter": "python",
   "pygments_lexer": "ipython3",
   "version": "3.11.7"
  }
 },
 "nbformat": 4,
 "nbformat_minor": 5
}
