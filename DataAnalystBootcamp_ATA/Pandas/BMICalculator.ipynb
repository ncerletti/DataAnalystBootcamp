{
 "cells": [
  {
   "cell_type": "code",
   "execution_count": 21,
   "id": "0bef2669-e9b5-442d-9fec-f12c5a8c6484",
   "metadata": {},
   "outputs": [
    {
     "name": "stdout",
     "output_type": "stream",
     "text": [
      "Welcome to the BMI Calculator!\n"
     ]
    },
    {
     "name": "stdin",
     "output_type": "stream",
     "text": [
      "Please choose whether you want to operate with the metric system (press m) or US system (press u) m\n"
     ]
    },
    {
     "name": "stdout",
     "output_type": "stream",
     "text": [
      "You have chosen the metric system.\n"
     ]
    },
    {
     "name": "stdin",
     "output_type": "stream",
     "text": [
      "Please enter your weight in kg.: 95\n",
      "Please enter your height in mt.: 1.85\n"
     ]
    },
    {
     "name": "stdout",
     "output_type": "stream",
     "text": [
      "Your BMI is 27.76.\n",
      "Your BMI is classified as Overweight\n",
      "Thank you for using the BMI calculator!\n"
     ]
    }
   ],
   "source": [
    "#Functions\n",
    "\n",
    "def bmi_numsys():\n",
    "    nums = ''\n",
    "    while nums != 'm' and nums != 'u':\n",
    "        nums = input('Please choose whether you want to operate with the metric system (press m) or US system (press u)')\n",
    "    return nums\n",
    "\n",
    "def bmi_inputs(uweight, uheight):\n",
    "    weight = input('Please enter your weight' + uweight)\n",
    "    height = input('Please enter your height' + uheight)\n",
    "    return weight, height\n",
    "\n",
    "def bmi_results(bmi):\n",
    "    print('Your BMI is ' + str(round(bmi,2)) + '.')\n",
    "    if bmi < 16:\n",
    "        print('Your BMI is classified as Severe Thinness')\n",
    "    elif bmi <= 17:\n",
    "        print('Your BMI is classified as Moderate Thinness')\n",
    "    elif bmi <= 18.5:\n",
    "        print('Your BMI is classified as Mild Thinness')\n",
    "    elif bmi <= 25:\n",
    "        print('Your BMI is classified as Normal Weight')\n",
    "    elif bmi <= 30:\n",
    "        print ('Your BMI is classified as Overweight')\n",
    "    elif bmi <= 35:\n",
    "        print ('Your BMI is classified as Obesity Class I')\n",
    "    elif bmi <= 40:  \n",
    "        print ('Your BMI is classified as Obesity Class II')\n",
    "    else:\n",
    "        print ('Your BMI is classified as Obesity Class III')\n",
    "\n",
    "#Main Code\n",
    "\n",
    "print('Welcome to the BMI Calculator!')\n",
    "\n",
    "\n",
    "if bmi_numsys() == 'm':\n",
    "    print ('You have chosen the metric system.')\n",
    "    uweight = ' in kg.:'\n",
    "    uheight = ' in mt.:'\n",
    "    weight, height = bmi_inputs(uweight, uheight)\n",
    "    bmi = float(weight) / (float(height)**2)    \n",
    "else:\n",
    "    print ('You have chosen the US system.')\n",
    "    uweight = ' in lbs.:'\n",
    "    uheight = ' in in.:'\n",
    "    weight, height = bmi_inputs(uweight, uheight)\n",
    "    bmi = 703 * (float(weight) / (float(height)**2))\n",
    "\n",
    "bmi_results(bmi)\n",
    "\n",
    "print('Thank you for using the BMI calculator!')\n",
    "    \n"
   ]
  },
  {
   "cell_type": "code",
   "execution_count": null,
   "id": "31454f66-70fb-46cd-900d-dad1c3c131ae",
   "metadata": {},
   "outputs": [],
   "source": []
  },
  {
   "cell_type": "code",
   "execution_count": null,
   "id": "0ad4521a-42e6-4bdf-834b-a335efd28daa",
   "metadata": {},
   "outputs": [],
   "source": []
  }
 ],
 "metadata": {
  "kernelspec": {
   "display_name": "Python 3 (ipykernel)",
   "language": "python",
   "name": "python3"
  },
  "language_info": {
   "codemirror_mode": {
    "name": "ipython",
    "version": 3
   },
   "file_extension": ".py",
   "mimetype": "text/x-python",
   "name": "python",
   "nbconvert_exporter": "python",
   "pygments_lexer": "ipython3",
   "version": "3.11.7"
  }
 },
 "nbformat": 4,
 "nbformat_minor": 5
}
