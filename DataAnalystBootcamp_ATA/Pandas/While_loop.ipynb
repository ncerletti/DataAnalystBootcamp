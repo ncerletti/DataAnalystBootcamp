{
 "cells": [
  {
   "cell_type": "code",
   "execution_count": 1,
   "id": "ce01da33-c30a-455f-8610-9fa9bbd7f323",
   "metadata": {},
   "outputs": [
    {
     "name": "stdout",
     "output_type": "stream",
     "text": [
      "0\n",
      "1\n",
      "2\n",
      "3\n",
      "4\n",
      "5\n"
     ]
    }
   ],
   "source": [
    "number = 0\n",
    "\n",
    "while number <= 5:\n",
    "    print(number)\n",
    "    number = number + 1"
   ]
  },
  {
   "cell_type": "code",
   "execution_count": 5,
   "id": "a26ba206-dcae-490a-b1d4-577478a5c641",
   "metadata": {},
   "outputs": [
    {
     "name": "stdout",
     "output_type": "stream",
     "text": [
      "0\n",
      "1\n",
      "2\n",
      "3\n"
     ]
    }
   ],
   "source": [
    "number = 0\n",
    "\n",
    "while number <= 5:\n",
    "    print(number)\n",
    "    if number == 3:\n",
    "        break\n",
    "    number = number + 1"
   ]
  },
  {
   "cell_type": "code",
   "execution_count": 6,
   "id": "3565591c-015e-4a70-afe5-dcb85147223f",
   "metadata": {},
   "outputs": [
    {
     "name": "stdout",
     "output_type": "stream",
     "text": [
      "0\n",
      "1\n",
      "2\n",
      "3\n",
      "4\n",
      "5\n",
      "No longer less than 6\n"
     ]
    }
   ],
   "source": [
    "number = 0\n",
    "\n",
    "while number <= 5:\n",
    "    print(number)\n",
    "    number = number + 1\n",
    "else:\n",
    "    print('No longer less than 6')"
   ]
  },
  {
   "cell_type": "code",
   "execution_count": 10,
   "id": "0055e8cb-0197-49dd-8c88-08c444ae64ac",
   "metadata": {},
   "outputs": [
    {
     "name": "stdout",
     "output_type": "stream",
     "text": [
      "1\n",
      "2\n",
      "4\n",
      "5\n",
      "6\n",
      "No longer less than 6\n"
     ]
    }
   ],
   "source": [
    "number = 0\n",
    "\n",
    "#while number <= 5:\n",
    "#   print(number)\n",
    "#   if number == 3:\n",
    "#      continue\n",
    "#   number = number + 1\n",
    "#   else:\n",
    "#   print('No longer less than 6')\n",
    "\n",
    "#This would create infinite loop. When it hits 3, it's going to continue: restart the loop, ignoring below, so it's never gonna add 1 to number. \n",
    "#To avoid infinite loop, we can change the order of the code:\n",
    "\n",
    "while number <= 5:\n",
    "    number = number + 1\n",
    "    if number == 3:\n",
    "        continue\n",
    "    print(number)\n",
    "else:\n",
    "    print('No longer less than 6')\n"
   ]
  },
  {
   "cell_type": "code",
   "execution_count": null,
   "id": "37777a17-2509-4efa-8b8c-f0c269be4d08",
   "metadata": {},
   "outputs": [],
   "source": []
  }
 ],
 "metadata": {
  "kernelspec": {
   "display_name": "Python 3 (ipykernel)",
   "language": "python",
   "name": "python3"
  },
  "language_info": {
   "codemirror_mode": {
    "name": "ipython",
    "version": 3
   },
   "file_extension": ".py",
   "mimetype": "text/x-python",
   "name": "python",
   "nbconvert_exporter": "python",
   "pygments_lexer": "ipython3",
   "version": "3.11.7"
  }
 },
 "nbformat": 4,
 "nbformat_minor": 5
}
