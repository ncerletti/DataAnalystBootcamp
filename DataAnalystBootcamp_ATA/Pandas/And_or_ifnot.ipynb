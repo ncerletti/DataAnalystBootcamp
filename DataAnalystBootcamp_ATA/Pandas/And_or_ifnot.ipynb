{
 "cells": [
  {
   "cell_type": "code",
   "execution_count": 11,
   "id": "2c2ed52e-a334-4483-96a9-01fa99bf280f",
   "metadata": {},
   "outputs": [
    {
     "data": {
      "text/plain": [
       "False"
      ]
     },
     "execution_count": 11,
     "metadata": {},
     "output_type": "execute_result"
    }
   ],
   "source": [
    "(10 == 10) and (20==30) #false\n",
    "\n"
   ]
  },
  {
   "cell_type": "code",
   "execution_count": 12,
   "id": "5372e5d5-636c-45de-902c-71d7d5d5098e",
   "metadata": {},
   "outputs": [
    {
     "data": {
      "text/plain": [
       "True"
      ]
     },
     "execution_count": 12,
     "metadata": {},
     "output_type": "execute_result"
    }
   ],
   "source": [
    "(10 == 10) or (20 == 30) #true\n"
   ]
  },
  {
   "cell_type": "code",
   "execution_count": 13,
   "id": "c4c4631f-9e06-43f4-b177-481fecbc320f",
   "metadata": {},
   "outputs": [
    {
     "data": {
      "text/plain": [
       "True"
      ]
     },
     "execution_count": 13,
     "metadata": {},
     "output_type": "execute_result"
    }
   ],
   "source": [
    " not ((10 == 10) and (20 == 30)) #true\n"
   ]
  },
  {
   "cell_type": "code",
   "execution_count": 14,
   "id": "2fed5e59-9cb9-4800-88d9-8386ca76af01",
   "metadata": {},
   "outputs": [
    {
     "data": {
      "text/plain": [
       "False"
      ]
     },
     "execution_count": 14,
     "metadata": {},
     "output_type": "execute_result"
    }
   ],
   "source": [
    "not ((10 == 10) and (30 == 30)) #false"
   ]
  },
  {
   "cell_type": "code",
   "execution_count": 20,
   "id": "8022d721-2922-4d97-9c60-db3da61d449b",
   "metadata": {},
   "outputs": [
    {
     "name": "stdout",
     "output_type": "stream",
     "text": [
      "Ha!\n",
      "No Ha :(\n"
     ]
    }
   ],
   "source": [
    "song = 'Hallelujah'\n",
    "\n",
    "if 'Ha' in song: \n",
    "    print('Ha!')\n",
    "\n",
    "song = 'You Belong With Me'\n",
    "\n",
    "if 'Ha' not in song:\n",
    "    print('No Ha :(')"
   ]
  },
  {
   "cell_type": "code",
   "execution_count": 21,
   "id": "a3ea1016-7090-4af6-9c7f-e6f243588ab9",
   "metadata": {},
   "outputs": [
    {
     "name": "stdout",
     "output_type": "stream",
     "text": [
      "Sad face :(\n"
     ]
    }
   ],
   "source": [
    "#Tb con listas:\n",
    "\n",
    "chocobars = [1,2,3,4,5]\n",
    "\n",
    "chocobars_wanted = 12\n",
    "\n",
    "if chocobars_wanted not in chocobars:\n",
    "    print('Sad face :(')"
   ]
  },
  {
   "cell_type": "code",
   "execution_count": null,
   "id": "8d4f1992-022c-4e57-a9db-2f59dae99093",
   "metadata": {},
   "outputs": [],
   "source": []
  }
 ],
 "metadata": {
  "kernelspec": {
   "display_name": "Python 3 (ipykernel)",
   "language": "python",
   "name": "python3"
  },
  "language_info": {
   "codemirror_mode": {
    "name": "ipython",
    "version": 3
   },
   "file_extension": ".py",
   "mimetype": "text/x-python",
   "name": "python",
   "nbconvert_exporter": "python",
   "pygments_lexer": "ipython3",
   "version": "3.11.7"
  }
 },
 "nbformat": 4,
 "nbformat_minor": 5
}
