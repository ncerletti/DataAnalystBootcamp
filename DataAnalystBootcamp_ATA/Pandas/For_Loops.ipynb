{
 "cells": [
  {
   "cell_type": "code",
   "execution_count": 1,
   "id": "a6b48f89-1c39-46b1-b922-141b99047f8b",
   "metadata": {},
   "outputs": [
    {
     "name": "stdout",
     "output_type": "stream",
     "text": [
      "1\n",
      "2\n",
      "3\n",
      "4\n",
      "5\n"
     ]
    }
   ],
   "source": [
    "#Used to iterate over a sequence: List / Array / Tuple / String / Dictionary\n",
    "\n",
    "int = [1,2,3,4,5]\n",
    "\n",
    "for number in int:\n",
    "    print(number)"
   ]
  },
  {
   "cell_type": "code",
   "execution_count": 2,
   "id": "5a16e41a-8670-4f60-93c0-993118910c7f",
   "metadata": {},
   "outputs": [
    {
     "name": "stdout",
     "output_type": "stream",
     "text": [
      "2\n",
      "3\n",
      "4\n",
      "5\n",
      "6\n"
     ]
    }
   ],
   "source": [
    "for number in int:\n",
    "    number = number + 1\n",
    "    print(number)"
   ]
  },
  {
   "cell_type": "code",
   "execution_count": 9,
   "id": "ed32a585-a6d2-4714-81bd-4e1df663cfc8",
   "metadata": {},
   "outputs": [
    {
     "name": "stdout",
     "output_type": "stream",
     "text": [
      "yep!\n",
      "yep!!\n",
      "yep!!!\n",
      "yep!!!!\n",
      "yep!!!!!\n"
     ]
    }
   ],
   "source": [
    "x = 'yep!'\n",
    "for number in int:\n",
    "    print(x)\n",
    "    x = x + '!'"
   ]
  },
  {
   "cell_type": "code",
   "execution_count": 10,
   "id": "995dd8dd-3a1a-400d-8003-3e4d32818e74",
   "metadata": {},
   "outputs": [
    {
     "name": "stdout",
     "output_type": "stream",
     "text": [
      "yep!\n",
      "yep!!\n",
      "yep!!!\n",
      "yep!!!!\n",
      "yep!!!!!\n",
      "yep!!!!!!\n"
     ]
    }
   ],
   "source": [
    "x = 'yep!'\n",
    "for number in int:\n",
    "    print(x)\n",
    "    x = x + '!'\n",
    "print(x)"
   ]
  },
  {
   "cell_type": "code",
   "execution_count": 11,
   "id": "68703d11-6d4e-4376-bf65-873da31449a4",
   "metadata": {},
   "outputs": [
    {
     "name": "stdout",
     "output_type": "stream",
     "text": [
      "yep!!\n",
      "yep!!!\n",
      "yep!!!!\n",
      "yep!!!!!\n",
      "yep!!!!!!\n"
     ]
    }
   ],
   "source": [
    "x = 'yep!'\n",
    "for number in int:\n",
    "    x = x + '!'\n",
    "    print(x)"
   ]
  },
  {
   "cell_type": "code",
   "execution_count": 12,
   "id": "8e926513-a3a4-4286-ba4a-d53e5436914b",
   "metadata": {},
   "outputs": [
    {
     "name": "stdout",
     "output_type": "stream",
     "text": [
      "2\n",
      "4\n",
      "6\n",
      "8\n",
      "10\n"
     ]
    }
   ],
   "source": [
    "int = [1,2,3,4,5]\n",
    "\n",
    "for spider in int:\n",
    "    print(spider + spider)"
   ]
  },
  {
   "cell_type": "code",
   "execution_count": 13,
   "id": "5bd33d16-759e-475b-9a47-9724922335af",
   "metadata": {},
   "outputs": [
    {
     "name": "stdout",
     "output_type": "stream",
     "text": [
      "Nat\n",
      "2\n",
      "['Chocolate', 'Raspberry', 'Kinder Bueno']\n"
     ]
    }
   ],
   "source": [
    "ice_cream = {'Name':'Nat', 'Weekly Intake':2, 'Fave Flavours':['Chocolate', 'Raspberry', 'Kinder Bueno']}\n",
    "\n",
    "for cream in ice_cream.values():\n",
    "    print(cream)"
   ]
  },
  {
   "cell_type": "code",
   "execution_count": 14,
   "id": "2b40b95e-ca60-4f2e-80fa-fb19ed482dd6",
   "metadata": {},
   "outputs": [
    {
     "name": "stdout",
     "output_type": "stream",
     "text": [
      "Name\n",
      "Weekly Intake\n",
      "Fave Flavours\n"
     ]
    }
   ],
   "source": [
    "for ice in ice_cream.keys():\n",
    "    print(ice)"
   ]
  },
  {
   "cell_type": "code",
   "execution_count": 16,
   "id": "3f2a3855-af4c-4b97-b535-3a7929c7556c",
   "metadata": {},
   "outputs": [
    {
     "name": "stdout",
     "output_type": "stream",
     "text": [
      "('Name', 'Nat')\n",
      "('Weekly Intake', 2)\n",
      "('Fave Flavours', ['Chocolate', 'Raspberry', 'Kinder Bueno'])\n"
     ]
    }
   ],
   "source": [
    "for ic in ice_cream.items():\n",
    "    print(ic)"
   ]
  },
  {
   "cell_type": "code",
   "execution_count": 19,
   "id": "31f9b06b-5794-40fb-90ca-b3a1b7fde61d",
   "metadata": {},
   "outputs": [
    {
     "name": "stdout",
     "output_type": "stream",
     "text": [
      "Name Nat\n",
      "Weekly Intake 2\n",
      "Fave Flavours ['Chocolate', 'Raspberry', 'Kinder Bueno']\n"
     ]
    }
   ],
   "source": [
    "for key,values in ice_cream.items():\n",
    "    print(key, values)"
   ]
  },
  {
   "cell_type": "code",
   "execution_count": 22,
   "id": "47b93673-16bc-4f7d-afc9-e58c78c79dc3",
   "metadata": {},
   "outputs": [
    {
     "name": "stdout",
     "output_type": "stream",
     "text": [
      "Chocolate topped with Oreos\n",
      "Chocolate topped with Kinder Bueno\n",
      "Chocolate topped with Milka\n",
      "Vanilla topped with Oreos\n",
      "Vanilla topped with Kinder Bueno\n",
      "Vanilla topped with Milka\n",
      "Hazelnut topped with Oreos\n",
      "Hazelnut topped with Kinder Bueno\n",
      "Hazelnut topped with Milka\n"
     ]
    }
   ],
   "source": [
    "#nested for loops\n",
    "\n",
    "flavors = ['Chocolate', 'Vanilla', 'Hazelnut']\n",
    "toppings = ['Oreos', 'Kinder Bueno', 'Milka']\n",
    "\n",
    "for fl in flavors:\n",
    "    for top in toppings:\n",
    "        print(fl + ' topped with ' + top)"
   ]
  },
  {
   "cell_type": "code",
   "execution_count": null,
   "id": "d5bf1025-8df5-425b-aa0f-392b1077c6d7",
   "metadata": {},
   "outputs": [],
   "source": []
  }
 ],
 "metadata": {
  "kernelspec": {
   "display_name": "Python 3 (ipykernel)",
   "language": "python",
   "name": "python3"
  },
  "language_info": {
   "codemirror_mode": {
    "name": "ipython",
    "version": 3
   },
   "file_extension": ".py",
   "mimetype": "text/x-python",
   "name": "python",
   "nbconvert_exporter": "python",
   "pygments_lexer": "ipython3",
   "version": "3.11.7"
  }
 },
 "nbformat": 4,
 "nbformat_minor": 5
}
