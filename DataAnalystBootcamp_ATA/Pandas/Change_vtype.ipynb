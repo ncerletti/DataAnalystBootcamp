{
 "cells": [
  {
   "cell_type": "code",
   "execution_count": 1,
   "id": "c8a7e684-f41e-4d7a-94ed-fd469fbb6b55",
   "metadata": {},
   "outputs": [],
   "source": [
    "dict = {'Name': 'Alex', 'Age':34, 'Happy': 'No'}"
   ]
  },
  {
   "cell_type": "code",
   "execution_count": 2,
   "id": "f0734a1f-57e5-4f28-b6cd-8f5a55a52801",
   "metadata": {},
   "outputs": [
    {
     "data": {
      "text/plain": [
       "dict_items([('Name', 'Alex'), ('Age', 34), ('Happy', 'No')])"
      ]
     },
     "execution_count": 2,
     "metadata": {},
     "output_type": "execute_result"
    }
   ],
   "source": [
    "dict.items()"
   ]
  },
  {
   "cell_type": "code",
   "execution_count": 3,
   "id": "2d313c5c-3799-44c9-889e-190b64e8f1bb",
   "metadata": {},
   "outputs": [
    {
     "data": {
      "text/plain": [
       "[('Name', 'Alex'), ('Age', 34), ('Happy', 'No')]"
      ]
     },
     "execution_count": 3,
     "metadata": {},
     "output_type": "execute_result"
    }
   ],
   "source": [
    "list(dict.items())"
   ]
  },
  {
   "cell_type": "code",
   "execution_count": 4,
   "id": "720cdb79-abb0-4ed3-abbc-800c24563d03",
   "metadata": {},
   "outputs": [
    {
     "data": {
      "text/plain": [
       "['Alex', 34, 'No']"
      ]
     },
     "execution_count": 4,
     "metadata": {},
     "output_type": "execute_result"
    }
   ],
   "source": [
    "list(dict.values())"
   ]
  },
  {
   "cell_type": "code",
   "execution_count": 5,
   "id": "5e646770-482b-45b1-ace9-c8d6fef56f45",
   "metadata": {},
   "outputs": [
    {
     "data": {
      "text/plain": [
       "['Name', 'Age', 'Happy']"
      ]
     },
     "execution_count": 5,
     "metadata": {},
     "output_type": "execute_result"
    }
   ],
   "source": [
    "list(dict.keys())"
   ]
  },
  {
   "cell_type": "code",
   "execution_count": null,
   "id": "3ee73e7a-b995-4941-aa12-4c302fbda275",
   "metadata": {},
   "outputs": [],
   "source": []
  }
 ],
 "metadata": {
  "kernelspec": {
   "display_name": "Python 3 (ipykernel)",
   "language": "python",
   "name": "python3"
  },
  "language_info": {
   "codemirror_mode": {
    "name": "ipython",
    "version": 3
   },
   "file_extension": ".py",
   "mimetype": "text/x-python",
   "name": "python",
   "nbconvert_exporter": "python",
   "pygments_lexer": "ipython3",
   "version": "3.11.7"
  }
 },
 "nbformat": 4,
 "nbformat_minor": 5
}
