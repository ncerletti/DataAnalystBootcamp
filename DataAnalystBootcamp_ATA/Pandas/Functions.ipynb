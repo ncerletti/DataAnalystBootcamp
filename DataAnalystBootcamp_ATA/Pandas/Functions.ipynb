{
 "cells": [
  {
   "cell_type": "code",
   "execution_count": 2,
   "id": "650227ac-5906-462d-867e-fe7bb9c3c925",
   "metadata": {},
   "outputs": [
    {
     "name": "stdout",
     "output_type": "stream",
     "text": [
      "Happy nugget\n"
     ]
    }
   ],
   "source": [
    "#def function():\n",
    "#   body of code you want to execute with your function\n",
    "\n",
    "#function() : calling your function (to execute the code)\n",
    "\n",
    "\n",
    "\n",
    "def happy():\n",
    "    print('Happy nugget')\n",
    "\n",
    "happy()"
   ]
  },
  {
   "cell_type": "code",
   "execution_count": 3,
   "id": "660950d5-175c-4b7c-94ff-b19de86e5697",
   "metadata": {},
   "outputs": [
    {
     "name": "stdout",
     "output_type": "stream",
     "text": [
      "Happy nugget\n"
     ]
    }
   ],
   "source": [
    "happy()"
   ]
  },
  {
   "cell_type": "code",
   "execution_count": 4,
   "id": "a3955acf-1d1d-46e2-822a-6090d01126f4",
   "metadata": {},
   "outputs": [],
   "source": [
    "#You can input arguments into your function for it to do things with it:\n",
    "\n",
    "def square_num(number):\n",
    "    print(number**2)"
   ]
  },
  {
   "cell_type": "code",
   "execution_count": 5,
   "id": "620e0554-c40e-4147-a5e8-455134fbe6b8",
   "metadata": {},
   "outputs": [
    {
     "name": "stdout",
     "output_type": "stream",
     "text": [
      "4\n"
     ]
    }
   ],
   "source": [
    "square_num(2)"
   ]
  },
  {
   "cell_type": "code",
   "execution_count": 6,
   "id": "6f50ee9b-5012-47c8-b07f-4465077f5de7",
   "metadata": {},
   "outputs": [
    {
     "name": "stdout",
     "output_type": "stream",
     "text": [
      "57121\n"
     ]
    }
   ],
   "source": [
    "square_num(239)"
   ]
  },
  {
   "cell_type": "code",
   "execution_count": 7,
   "id": "86bf5bd5-8631-47e1-b14c-bb41c00fdf42",
   "metadata": {},
   "outputs": [],
   "source": [
    "def square_num_cus(number, power):\n",
    "    print(number**power)"
   ]
  },
  {
   "cell_type": "code",
   "execution_count": 8,
   "id": "90af21cf-d3ef-43f6-86fb-e667d816b6a4",
   "metadata": {},
   "outputs": [
    {
     "name": "stdout",
     "output_type": "stream",
     "text": [
      "4\n"
     ]
    }
   ],
   "source": [
    "square_num_cus(2,2)"
   ]
  },
  {
   "cell_type": "code",
   "execution_count": 9,
   "id": "bed03d2f-cefc-4956-b09c-594c91ae4c62",
   "metadata": {},
   "outputs": [
    {
     "name": "stdout",
     "output_type": "stream",
     "text": [
      "701583371424\n"
     ]
    }
   ],
   "source": [
    "square_num_cus(234,5)"
   ]
  },
  {
   "cell_type": "code",
   "execution_count": 23,
   "id": "c2f3f16f-1a04-48fe-9977-55c5493d6666",
   "metadata": {},
   "outputs": [],
   "source": [
    "def age_telling(name, age):\n",
    "    if age < 31:\n",
    "        judgement = 'young'\n",
    "    else:\n",
    "        judgement = 'old'\n",
    "    print (name + ' is ' + str(age) + '.' + ' ' + name + ' is ' + judgement + '.')"
   ]
  },
  {
   "cell_type": "code",
   "execution_count": 24,
   "id": "87281267-ad3b-4e45-ba1c-cee5a8a20628",
   "metadata": {},
   "outputs": [
    {
     "name": "stdout",
     "output_type": "stream",
     "text": [
      "Nat is 34. Nat is old.\n",
      "Javi is 30. Javi is young.\n"
     ]
    }
   ],
   "source": [
    "age_telling('Nat', 34)\n",
    "age_telling('Javi',30)"
   ]
  },
  {
   "cell_type": "code",
   "execution_count": 30,
   "id": "55ff63d4-9923-4ac9-ab13-111228eb14e8",
   "metadata": {},
   "outputs": [
    {
     "name": "stdout",
     "output_type": "stream",
     "text": [
      "Nat is 34. Nat is old.\n",
      "Javi is 30. Javi is young.\n",
      "Zeldita is 4. Zeldita is young.\n"
     ]
    }
   ],
   "source": [
    "def age_telling(name, age):\n",
    "    if age < 31:\n",
    "        judgement = 'young'\n",
    "    else:\n",
    "        judgement = 'old'\n",
    "    print (name + ' is ' + str(age) + '.' + ' ' + name + ' is ' + judgement + '.')\n",
    "    \n",
    "Family_ages = {'Nat':34, 'Javi':30, 'Zeldita':4}\n",
    "\n",
    "for names, ages in Family_ages.items():\n",
    "    age_telling(names, ages)"
   ]
  },
  {
   "cell_type": "code",
   "execution_count": 38,
   "id": "618cfd3f-dc30-4e68-a8b2-b6e5d0ca7565",
   "metadata": {},
   "outputs": [
    {
     "name": "stdout",
     "output_type": "stream",
     "text": [
      "30\n"
     ]
    }
   ],
   "source": [
    "#Cuando no sabemos cuántos argumentos vamos a inputear:\n",
    "\n",
    "def lots_numbers(*args):\n",
    "    print(args[0]*args[1])\n",
    "    \n",
    "lots_numbers(5,6,3,5,6,7,9090,448,3,5,5)"
   ]
  },
  {
   "cell_type": "code",
   "execution_count": 41,
   "id": "fac5f207-3212-453d-afd2-4ff62a6c4f6e",
   "metadata": {},
   "outputs": [
    {
     "name": "stdout",
     "output_type": "stream",
     "text": [
      "30\n"
     ]
    }
   ],
   "source": [
    "def lots_numbers(*args):\n",
    "    print(args[0]*args[1])\n",
    "\n",
    "num_tuples = (5,6,3,5,6,7,9090,448,3,5,5)\n",
    "\n",
    "lots_numbers(*num_tuples)\n",
    "\n",
    "#sin * antes del nombre del tuple da error!"
   ]
  },
  {
   "cell_type": "code",
   "execution_count": 42,
   "id": "2b4e5b58-1062-46c0-91f0-3109b19801f0",
   "metadata": {},
   "outputs": [
    {
     "name": "stdout",
     "output_type": "stream",
     "text": [
      "125\n"
     ]
    }
   ],
   "source": [
    "def square_num_cus(number, power):\n",
    "    print(number**power)\n",
    "\n",
    "#change the order in which you enter arguments if you specify which is which:\n",
    "\n",
    "square_num_cus(power = 3, number = 5)"
   ]
  },
  {
   "cell_type": "code",
   "execution_count": 44,
   "id": "ad4436da-3d97-42be-aabe-665db92ea7e1",
   "metadata": {},
   "outputs": [
    {
     "name": "stdout",
     "output_type": "stream",
     "text": [
      "My number is 23455 My other number is 4985\n"
     ]
    }
   ],
   "source": [
    "# arbitrary keyword arguments\n",
    "\n",
    "def kwarg(**number):\n",
    "    print('My number is ' + number['Integer'] + \" My other number is \" + number['Integer2'])\n",
    "\n",
    "kwarg(Integer = '23455', Integer2 = '4985')\n",
    "\n",
    "#what comes after the keywords have to be strings, cant be numbers or it breaks"
   ]
  },
  {
   "cell_type": "code",
   "execution_count": null,
   "id": "c90a10d8-233d-424e-9fda-92ed76b9814e",
   "metadata": {},
   "outputs": [],
   "source": [
    "\n"
   ]
  }
 ],
 "metadata": {
  "kernelspec": {
   "display_name": "Python 3 (ipykernel)",
   "language": "python",
   "name": "python3"
  },
  "language_info": {
   "codemirror_mode": {
    "name": "ipython",
    "version": 3
   },
   "file_extension": ".py",
   "mimetype": "text/x-python",
   "name": "python",
   "nbconvert_exporter": "python",
   "pygments_lexer": "ipython3",
   "version": "3.11.7"
  }
 },
 "nbformat": 4,
 "nbformat_minor": 5
}
