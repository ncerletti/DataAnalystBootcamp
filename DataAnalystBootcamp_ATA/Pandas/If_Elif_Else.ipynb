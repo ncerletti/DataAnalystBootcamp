{
 "cells": [
  {
   "cell_type": "code",
   "execution_count": 1,
   "id": "a401e345-a205-4fa6-bd80-d9ebac2f457f",
   "metadata": {},
   "outputs": [
    {
     "name": "stdout",
     "output_type": "stream",
     "text": [
      "It worked!\n"
     ]
    }
   ],
   "source": [
    "if 25 > 10:\n",
    "    print('It worked!')"
   ]
  },
  {
   "cell_type": "code",
   "execution_count": 4,
   "id": "fc3d8045-ccec-43d5-bea3-1f19edef1fb6",
   "metadata": {},
   "outputs": [
    {
     "name": "stdout",
     "output_type": "stream",
     "text": [
      "It did not work...\n"
     ]
    }
   ],
   "source": [
    "if 25 < 10:\n",
    "    print('It worked!')\n",
    "else:\n",
    "    print('It did not work...')"
   ]
  },
  {
   "cell_type": "code",
   "execution_count": 5,
   "id": "62577dbf-ff33-4ad8-b354-546ccdccabe6",
   "metadata": {},
   "outputs": [
    {
     "name": "stdout",
     "output_type": "stream",
     "text": [
      "elif 4 worked!\n"
     ]
    }
   ],
   "source": [
    "if 25 < 10:\n",
    "    print('It worked!')\n",
    "elif 25 < 20:\n",
    "    print('elif 1 worked!')\n",
    "elif 25 < 21:\n",
    "    print('elif 2 worked!')\n",
    "elif 25 < 22:\n",
    "    print('elif 3 worked!')\n",
    "elif 25 < 40:\n",
    "    print('elif 4 worked!')\n",
    "elif 25 < 50:\n",
    "    print('elif 5 worked!')\n",
    "else:\n",
    "    print('It did not work...')"
   ]
  },
  {
   "cell_type": "code",
   "execution_count": 6,
   "id": "dcb82f3e-0008-4e7b-b5e3-9c7dd94972c0",
   "metadata": {},
   "outputs": [
    {
     "name": "stdout",
     "output_type": "stream",
     "text": [
      "It didn't work\n"
     ]
    }
   ],
   "source": [
    "#one liners!\n",
    "\n",
    "print('It worked!') if 10 > 30 else print(\"It didn't work\")"
   ]
  },
  {
   "cell_type": "code",
   "execution_count": 8,
   "id": "11c56ecb-b28e-4640-b68d-6008c4bdd077",
   "metadata": {},
   "outputs": [
    {
     "name": "stdout",
     "output_type": "stream",
     "text": [
      "It worked!\n",
      "The nested if worked\n"
     ]
    }
   ],
   "source": [
    "#nested\n",
    "if 25 > 10:\n",
    "    print('It worked!')\n",
    "    if 10 > 5:\n",
    "        print('The nested if worked')\n"
   ]
  },
  {
   "cell_type": "code",
   "execution_count": null,
   "id": "692fe255-e721-451e-8087-47bb9967134c",
   "metadata": {},
   "outputs": [],
   "source": []
  }
 ],
 "metadata": {
  "kernelspec": {
   "display_name": "Python 3 (ipykernel)",
   "language": "python",
   "name": "python3"
  },
  "language_info": {
   "codemirror_mode": {
    "name": "ipython",
    "version": 3
   },
   "file_extension": ".py",
   "mimetype": "text/x-python",
   "name": "python",
   "nbconvert_exporter": "python",
   "pygments_lexer": "ipython3",
   "version": "3.11.7"
  }
 },
 "nbformat": 4,
 "nbformat_minor": 5
}
